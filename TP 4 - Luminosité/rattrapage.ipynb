{
 "cells": [
  {
   "cell_type": "markdown",
   "metadata": {},
   "source": [
    "# Python et Photo numérique :\n",
    "On dispose d’une image de paysage, les couleurs sont un peu passées sauf le bleu qui semble « trop bleu »."
   ]
  },
  {
   "cell_type": "markdown",
   "metadata": {},
   "source": [
    "<img src=\"paysage.jpg\" title=\"photo ratée \" width=800 align= \"center\"/>"
   ]
  },
  {
   "cell_type": "markdown",
   "metadata": {},
   "source": [
    "On veut modifier l’intensité des couleurs de l’image :"
   ]
  },
  {
   "cell_type": "code",
   "execution_count": null,
   "metadata": {},
   "outputs": [],
   "source": [
    "# script à modifier pour obtenir un filtre sur l'image\n",
    "# le code proposé est incomplet et ne fonctionnera pas initialement !!\n",
    "\n",
    "# Insérer ici votre nom : \n",
    "\n",
    "\n",
    "from PIL.Image import * # permet d'importer le module image de la bibliothèque PIL\n",
    "\n",
    "img=open(\"paysage.jpg\") #crée un objet img qui contient l'image initiale\n",
    "\n",
    "largeur, hauteur = img.size # met les valeurs de largeur et de hauteur pour ce nouvel objet\n",
    "\n",
    "for x in range(0,           ): # à compléter\n",
    "    for y in range(0,                 ): # à compléter\n",
    "        # Ici on traite le pixel (x,y) de l'image\n",
    "        (r,v,b)=img.getpixel((x,y))\n",
    "        new_r =         # à compléter pour obtenir le rouge plus intense\n",
    "        new_v =         # à compléter pour obtenir le vert plus intense\n",
    "        new_b =         # à compléter pour obtenir le bleu moins intense\n",
    "        img.putpixel((x,y), (         ,     ,     )) # à compléter\n",
    "\n",
    "img # pour afficher l'image\n"
   ]
  },
  {
   "cell_type": "code",
   "execution_count": null,
   "metadata": {},
   "outputs": [],
   "source": []
  }
 ],
 "metadata": {
  "kernelspec": {
   "display_name": "Python 3",
   "language": "python",
   "name": "python3"
  },
  "language_info": {
   "codemirror_mode": {
    "name": "ipython",
    "version": 3
   },
   "file_extension": ".py",
   "mimetype": "text/x-python",
   "name": "python",
   "nbconvert_exporter": "python",
   "pygments_lexer": "ipython3",
   "version": "3.7.9"
  }
 },
 "nbformat": 4,
 "nbformat_minor": 4
}