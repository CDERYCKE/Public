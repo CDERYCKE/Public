{
 "cells": [
  {
   "cell_type": "markdown",
   "metadata": {},
   "source": [
    "# Traitement d'images numériques\n",
    "\n",
    "Utilisation de pillow en python pour traiter des images\n",
    "\n",
    "Lien avec le programme :\n",
    "\n",
    "![SegmentLocal](images/programme.jpg \"segment\")\n",
    "    \n"
   ]
  },
  {
   "cell_type": "markdown",
   "metadata": {},
   "source": [
    "<div class=\"alert alert-info\" role=\"alert\">\n",
    "  \n",
    "Vous êtes en train d'utiliser un notebook jupyter qui utilise le language Python.<br>\n",
    "Il y a des cellules de texte et des cellules de code.<br>\n",
    "\n",
    "<strong>Travail à faire sur le notebook : </strong> <br>\n",
    "    Pour les cellules suivantes, appuyez sur <strong>shift entrée </strong>pour lancer le code Python contenu chaque cellule\n",
    "</div>"
   ]
  },
  {
   "cell_type": "markdown",
   "metadata": {},
   "source": [
    "La cellule suivante va importer le module Image de la bibliothèque pillow (PIL)"
   ]
  },
  {
   "cell_type": "code",
   "execution_count": null,
   "metadata": {},
   "outputs": [],
   "source": [
    "from PIL.Image import * # permet d'importer le module image de la bibliothèque PIL"
   ]
  },
  {
   "cell_type": "markdown",
   "metadata": {},
   "source": [
    "Nous sommes maintenant prêts à travailler !"
   ]
  },
  {
   "cell_type": "markdown",
   "metadata": {},
   "source": [
    "# Activités :\n",
    "\n",
    "But : programmer en Python quelques modifications d'image simples"
   ]
  },
  {
   "cell_type": "markdown",
   "metadata": {},
   "source": [
    "## 1. Réalisation d'un filtre rouge :\n",
    "Rappels :\n",
    "Les composantes de couleur d'un pixel sont données par trois nombres r,v,b <br>\n",
    "qui sont des entiers compris entre 0 et 255 et qui indiquent la proportion de lumière rouge, verte ou bleue.\n",
    "\n",
    "En combinant ces 3 composantes on peut refabriquer l'ensemble des couleurs.\n",
    "\n",
    "On souhaite réaliser un filtre rouge qui conserve la composante rouge de chaque pixel mais qui passe les autres coposantes à la valeur zéro.\n",
    "\n",
    "La photographie initiale est la suivante :\n",
    "![SegmentLocal](images/colors_small.jpg \"segment\")"
   ]
  },
  {
   "cell_type": "markdown",
   "metadata": {},
   "source": [
    "On commence par ouvrir l'image en mémoire et récupérer ses dimensions"
   ]
  },
  {
   "cell_type": "markdown",
   "metadata": {},
   "source": [
    "<div class=\"alert alert-info\" role=\"alert\">\n",
    "  <strong>Travail à faire sur le notebook : </strong> <br>\n",
    "    Exécuter les cellules suivantes et lire les commentaires pour comprendre ce qui se passe :<br>\n",
    "    Pour les cellules suivantes, appuyez sur <strong>shift entrée </strong>pour lancer le code Python contenu chaque cellule\n",
    "</div>"
   ]
  },
  {
   "cell_type": "code",
   "execution_count": null,
   "metadata": {},
   "outputs": [],
   "source": [
    "img=open(\"colors.jpg\") #crée un objet img qui contient l'image colors.jpg\n",
    "largeur = img.width\n",
    "hauteur = img.height\n",
    "print ('largeur : ', largeur, 'pixels', '; hauteur : ', hauteur,'pixels')\n"
   ]
  },
  {
   "cell_type": "markdown",
   "metadata": {},
   "source": [
    "On va utiliser alors une double boucle pour parcourir et modifier les pixels un par un : c'est à dire ne conserver que la valeur du pixel rouge et placer 0 pour les pixels vert et bleu."
   ]
  },
  {
   "cell_type": "code",
   "execution_count": null,
   "metadata": {},
   "outputs": [],
   "source": [
    "img=open(\"colors.jpg\") #recrée un objet img qui contient l'image colors.jpg si celui-ci a été modifié avant\n",
    "for x in range(0,largeur):\n",
    "    for y in range(0,hauteur):\n",
    "        # Ici on traite le pixel (x,y) de l'image\n",
    "        (r,v,b)=img.getpixel((x,y))\n",
    "        img.putpixel((x,y), (0,v,0))\n",
    "img # pour afficher l'image dans le notebook"
   ]
  },
  {
   "cell_type": "markdown",
   "metadata": {},
   "source": [
    "<div class=\"alert alert-warning\" role=\"alert\">\n",
    "    <strong> Travail à faire sur la fiche réponse : </strong>\n",
    "    \n",
    "1) Quelles sont les dimensions de l’image étudiée ?<br>\n",
    "2) Que fait le code Python proposé ?<br>\n",
    "3) Lire, tester et corriger l'erreur dans le programme Python ci-dessus afin qu'il applique bien un filtre rouge sur l'image.<br>\n",
    "4) Recopier le code sur votre fiche réponse.\n",
    "\n",
    "</div>"
   ]
  },
  {
   "cell_type": "markdown",
   "metadata": {},
   "source": [
    "## 2 - Réalisation d'un filtre gris\n",
    "\n",
    "On propose ensuite de passer une image couleurs en niveaux de gris :\n",
    "\n",
    "pour cela, il faut comprendre ce que signifie le gris en terme de pixels rouge, Vert, Bleu (RVB) :\n",
    "\n",
    "On passe du noir (0,0,0) au blanc (255,255,255) avec les valeurs intermédiaire de gris qui ont toutes **la même valeur** pour (r,v,b).\n",
    "![SegmentLocal](images/gris.jpg \"segment\")\n",
    "\n",
    "Se pose alors la question de savoir quelle valeur de luminance L on va utiliser pour les composantes (r, v, b) = (L,L,L) ? \n",
    "\n",
    "On va d'abord essayer de faire la moyenne des trois valeurs : $\\frac{(r+v+b)}{3}$"
   ]
  },
  {
   "cell_type": "markdown",
   "metadata": {},
   "source": [
    "<div class=\"alert alert-warning\" role=\"alert\">\n",
    "    <strong> Travail à faire sur la fiche réponse : </strong>\n",
    "    \n",
    "4) Noter le résultat des calculs manquants sur votre feuille réponse. <br>\n",
    "   Quel problème se pose ?<br>"
   ]
  },
  {
   "cell_type": "markdown",
   "metadata": {},
   "source": [
    "Pour éviter cela, on utilise une moyenne pondérée. Les pondérations dépendent notamment de la sensibilité des couleurs primaires à l’œil humain. <br>\n",
    "La formule couramment utilisée est :   $L = \\frac{(21*r + 71*v + 8*b)}{100} $ <br>\n",
    "\n",
    "Sous Python, on écrira `L = (21*r + 71*v + 8*b)//100` <br>\n",
    "Le // désigne l'opérateur division entière qui renvoie un nombre entier et non un nombre à virgule lors de la division.<br>"
   ]
  },
  {
   "cell_type": "markdown",
   "metadata": {},
   "source": [
    "<div class=\"alert alert-warning\" role=\"alert\">\n",
    "    <strong> Travail à faire sur la fiche réponse : </strong>\n",
    "    \n",
    "5) Recalculer les luminances avec cette dernière formule.  Peut-on distinguer maintenant rouge, vert et bleu ?<br>\n",
    "6) Traiter alors l'image précedente pour la faire passer en niveaux de gris"
   ]
  },
  {
   "cell_type": "code",
   "execution_count": null,
   "metadata": {},
   "outputs": [],
   "source": [
    "img=open(\"colors.jpg\") #recrée un objet img qui contient l'image colors.jpg si celui-ci a été modifié avant\n",
    "for x in range(0,largeur):\n",
    "    for y in range(0,hauteur):\n",
    "        # Ici on traite le pixel (x,y) de l'image\n",
    "        (r,v,b)=img.getpixel((x,y))\n",
    "        L =    ????????????   # On calcule ici la valeur de L avec la moyenne pondérée\n",
    "        img.putpixel((x,y), ( L, L, L ) ) \n",
    "img # pour afficher l'image dans le notebook"
   ]
  },
  {
   "cell_type": "markdown",
   "metadata": {},
   "source": [
    "## 3. Passage d'une image couleur en son négatif\n",
    "\n",
    "Exemple :  \n",
    "![SegmentLocal](images/negatif.jpg \"segment\")\n",
    "\n",
    "Le principe du filtre négatif est de remplacer chaque composante par son complémentaire :  \n",
    "![SegmentLocal](images/etoile.jpg \"segment\")\n",
    "\n",
    "ainsi le bleu (0,0,255) est remplacé par le jaune (255,255,0)\n",
    "\n",
    "0 devient 255 soit 255-0\n",
    "\n",
    "255 devient 0 soit 255-255"
   ]
  },
  {
   "cell_type": "markdown",
   "metadata": {},
   "source": [
    "<div class=\"alert alert-warning\" role=\"alert\">\n",
    "    <strong> Travail à faire sur la fiche réponse : </strong>\n",
    "    \n",
    "7) Compléter le tableau des couleurs coimplémentaires. <br>\n",
    "8) Compléter le code suivant de manière à obtenir le négatif de l'image nommée eowyn.jpg"
   ]
  },
  {
   "cell_type": "code",
   "execution_count": null,
   "metadata": {},
   "outputs": [],
   "source": [
    "img=open(\"eowyn.jpg\") #recrée un objet img qui contient l'image initiale eowyn.jpg\n",
    "largeur, hauteur = img.size # met les valeurs de largeur et de hauteur pour ce nouvel objet\n",
    "for x in range(0,largeur):\n",
    "    for y in range(0,hauteur):\n",
    "        # Ici on traite le pixel (x,y) de l'image\n",
    "        (r,v,b)=img.getpixel((x,y))\n",
    "        img.putpixel((x,y), (?????????????))\n",
    "\n",
    "img.save(\"eowyn_neg.jpg\")\n",
    "img # pour afficher l'image dans le notebook\n",
    "\n"
   ]
  },
  {
   "cell_type": "markdown",
   "metadata": {},
   "source": [
    "<div class=\"alert alert-warning\" role=\"alert\">\n",
    "    <strong> Travail à faire sur la fiche réponse : </strong>\n",
    "    \n",
    "--> Lorsque votre travail est terminé, faire vérifier.<br>\n",
    "--> Enregistrer votre travail :avec <strong>\"Download as a Notebook\"</strong> du menu File <br>\n",
    "\n",
    "--> Placer le fichier dans votre dossier personnel et dans le dossier commun de la classe."
   ]
  },
  {
   "cell_type": "markdown",
   "metadata": {},
   "source": [
    "<div class=\"alert alert-success\" role=\"alert\">\n",
    " <strong> Le travail est terminé !</strong> <br>\n",
    "</div>"
   ]
  },
  {
   "cell_type": "code",
   "execution_count": null,
   "metadata": {},
   "outputs": [],
   "source": [
    "## pour le bonus :\n",
    "img=open(\"eowyn.jpg\") #recrée un objet img qui contient l'image initiale eowyn.jpg\n",
    "largeur, hauteur = img.size # met les valeurs de largeur et de hauteur pour ce nouvel objet\n",
    "for x in range(0,largeur):\n",
    "    for y in range(0,hauteur):\n",
    "        # Ici on traite le pixel (x,y) de l'image\n",
    "        \n",
    "\n",
    "img.save(\"eowyn_neg.jpg\")\n",
    "img # pour afficher l'image dans le notebook\n",
    "\n"
   ]
  }
 ],
 "metadata": {
  "kernel_info": {
   "name": "python3"
  },
  "kernelspec": {
   "display_name": "Python 3",
   "language": "python",
   "name": "python3"
  },
  "language_info": {
   "codemirror_mode": {
    "name": "ipython",
    "version": 3
   },
   "file_extension": ".py",
   "mimetype": "text/x-python",
   "name": "python",
   "nbconvert_exporter": "python",
   "pygments_lexer": "ipython3",
   "version": "3.7.9"
  },
  "nteract": {
   "version": "0.15.0"
  }
 },
 "nbformat": 4,
 "nbformat_minor": 4
}
