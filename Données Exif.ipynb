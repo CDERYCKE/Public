{
 "cells": [
  {
   "cell_type": "markdown",
   "metadata": {},
   "source": [
    "# Données Exif\n",
    "\n",
    "La plupart des appareils photos récents et téléphones portables enregistrent les photographies avec des données géographiques (longitude, latitude, mais aussi altitude). Si ces données sont lisibles avec la majorité des logiciels photos et d’explorateurs de fichiers, il est également possible d’y accéder avec Python."
   ]
  },
  {
   "cell_type": "markdown",
   "metadata": {},
   "source": [
    "Voici l'image que nous allons étudier :\n",
    "![](images/thorsmork_small.jpg)"
   ]
  },
  {
   "cell_type": "markdown",
   "metadata": {},
   "source": []
  },
  {
   "cell_type": "code",
   "execution_count": 1,
   "metadata": {},
   "outputs": [],
   "source": [
    "from PIL import Image\n",
    "from PIL.ExifTags import TAGS, GPSTAGS"
   ]
  },
  {
   "cell_type": "code",
   "execution_count": 7,
   "metadata": {},
   "outputs": [],
   "source": [
    "im=Image.open(\"images/thorsmork.jpg\")"
   ]
  },
  {
   "cell_type": "markdown",
   "metadata": {},
   "source": []
  },
  {
   "cell_type": "code",
   "execution_count": 20,
   "metadata": {},
   "outputs": [],
   "source": [
    "exif_data = im._getexif()"
   ]
  },
  {
   "cell_type": "markdown",
   "metadata": {},
   "source": [
    "Répondre aux questions suivantes sur la fiche réponse :\n",
    "***\n",
    "\n",
    "1) Quel appareil photo a pris cette photographie ?\n",
    "2) la largeur de l'image en pixel\n",
    "3) la hauteur de l'image en pixel\n",
    "4) la date et l'heure de la prise de vue\n",
    "***\n",
    "\n"
   ]
  },
  {
   "cell_type": "markdown",
   "metadata": {},
   "source": [
    "On peut connaitre l'ensemble des clés EXIF :\n",
    "https://www.exiv2.org/tags.html\n"
   ]
  },
  {
   "cell_type": "code",
   "execution_count": null,
   "metadata": {},
   "outputs": [],
   "source": []
  },
  {
   "cell_type": "code",
   "execution_count": 21,
   "metadata": {},
   "outputs": [
    {
     "data": {
      "text/plain": [
       "{34853: {1: 'N',\n",
       "  2: ((63, 1), (409847, 10000), (0, 1)),\n",
       "  3: 'W',\n",
       "  4: ((19, 1), (318565, 10000), (0, 1)),\n",
       "  5: b'\\x00',\n",
       "  6: (92709, 191),\n",
       "  7: ((13, 1), (18, 1), (42000, 1000)),\n",
       "  12: 'K',\n",
       "  13: (23, 25),\n",
       "  16: 'M',\n",
       "  17: (57107, 192),\n",
       "  23: 'M',\n",
       "  24: (57107, 192),\n",
       "  29: '2018:09:03',\n",
       "  31: (10, 1)},\n",
       " 296: 2,\n",
       " 34665: 224,\n",
       " 271: 'Apple',\n",
       " 272: 'iPhone 8',\n",
       " 305: 'Adobe Photoshop Lightroom Classic 8.2 (Macintosh)',\n",
       " 306: '2019:05:10 18:01:44',\n",
       " 282: (240, 1),\n",
       " 283: (240, 1),\n",
       " 36864: b'0230',\n",
       " 37377: (10167418, 1000000),\n",
       " 37378: (1695994, 1000000),\n",
       " 36867: '2018:09:03 15:18:55',\n",
       " 36868: '2018:09:03 15:18:55',\n",
       " 37379: (17587, 1827),\n",
       " 37380: (0, 1),\n",
       " 37383: 5,\n",
       " 40961: 1,\n",
       " 37385: 0,\n",
       " 37386: (399, 100),\n",
       " 41987: 0,\n",
       " 41989: 28,\n",
       " 41990: 0,\n",
       " 37521: '756',\n",
       " 37522: '756',\n",
       " 41495: 2,\n",
       " 33434: (1, 1150),\n",
       " 33437: (18, 10),\n",
       " 41729: b'\\x01',\n",
       " 41985: 6,\n",
       " 34855: 20,\n",
       " 42034: ((4183519, 1048501), (4183519, 1048501), (9, 5), (9, 5)),\n",
       " 42035: 'Apple',\n",
       " 42036: 'iPhone 8 back camera 3.99mm f/1.8'}"
      ]
     },
     "execution_count": 21,
     "metadata": {},
     "output_type": "execute_result"
    }
   ],
   "source": [
    "exif_data"
   ]
  },
  {
   "cell_type": "markdown",
   "metadata": {},
   "source": [
    "La clé \"34853\" n'est pas tout le temps présente puisqu'il s'agit des coordonnées (latitude, longitude) de la prise de vue, il faut donc que l'appareil photo intègre un GPS (ce qui est le cas des smartphones), si étudions cette clé \"34853\", nous obtenons les informations suivantes :\n",
    "\n",
    "ligne 1 : précise que nous sommes dans l'hémisphère Nord\n",
    "ligne 2 : nous avons la latitude ((47, 1), (37, 1), (29107360, 1000000)) nous avons ici une latitude en degrés, minute, seconde (ici : 47 degrés 37 minutes et 29,107360 secondes, aussi noté 47°37'29,107360\")\n",
    "ligne 3 : précise que nous sommes à l'ouest (W) du méridien de Greenwich\n",
    "ligne 4 : nous avons la longitude ((3, 1), (25, 1), (42976570, 1000000) ici aussi la longitude est donnée en degrés, minute, seconde (ici : 3°25'42,976570\")"
   ]
  },
  {
   "cell_type": "code",
   "execution_count": null,
   "metadata": {},
   "outputs": [],
   "source": []
  },
  {
   "cell_type": "code",
   "execution_count": 20,
   "metadata": {},
   "outputs": [
    {
     "data": {
      "text/plain": [
       "{1: 'N',\n",
       " 2: ((63, 1), (409847, 10000), (0, 1)),\n",
       " 3: 'W',\n",
       " 4: ((19, 1), (318565, 10000), (0, 1)),\n",
       " 5: b'\\x00',\n",
       " 6: (92709, 191),\n",
       " 7: ((13, 1), (18, 1), (42000, 1000)),\n",
       " 12: 'K',\n",
       " 13: (23, 25),\n",
       " 16: 'M',\n",
       " 17: (57107, 192),\n",
       " 23: 'M',\n",
       " 24: (57107, 192),\n",
       " 29: '2018:09:03',\n",
       " 31: (10, 1)}"
      ]
     },
     "execution_count": 20,
     "metadata": {},
     "output_type": "execute_result"
    }
   ],
   "source": [
    "exif_data[34853]"
   ]
  },
  {
   "cell_type": "code",
   "execution_count": 22,
   "metadata": {},
   "outputs": [
    {
     "data": {
      "text/plain": [
       "'N'"
      ]
     },
     "execution_count": 22,
     "metadata": {},
     "output_type": "execute_result"
    }
   ],
   "source": [
    "exif_data[34853][1]"
   ]
  },
  {
   "cell_type": "code",
   "execution_count": 25,
   "metadata": {},
   "outputs": [
    {
     "data": {
      "text/plain": [
       "((63, 1), (409847, 10000), (0, 1))"
      ]
     },
     "execution_count": 25,
     "metadata": {},
     "output_type": "execute_result"
    }
   ],
   "source": [
    "exif_data[34853][2]"
   ]
  },
  {
   "cell_type": "code",
   "execution_count": 27,
   "metadata": {},
   "outputs": [
    {
     "data": {
      "text/plain": [
       "(63, 1)"
      ]
     },
     "execution_count": 27,
     "metadata": {},
     "output_type": "execute_result"
    }
   ],
   "source": [
    "exif_data[34853][2][0]"
   ]
  },
  {
   "cell_type": "markdown",
   "metadata": {},
   "source": [
    "cette clé correspond à 63 * 1 degré"
   ]
  },
  {
   "cell_type": "markdown",
   "metadata": {},
   "source": [
    "Pour convertir des (degrés, minute, seconde aussi noté DMS) en \"degrés décimaux\" (DD) (unité que nous avons utilisée dans le module \"cartographie\"), il faut appliquer la formule suivante :\n",
    "DD = degrés+(minute/60)+(seconde/3600)\n",
    "\n",
    "ATTENTION : pour que la conversion soit correcte, il faut ajouter un signe moins devant la longitude au format DD si nous sommes situés à l'ouest du méridien de Greenwich."
   ]
  },
  {
   "cell_type": "markdown",
   "metadata": {},
   "source": [
    "On définit une fonction pour effectuer pour nous la conversion en degrés :\n",
    "((63, 1), (409847, 10000), (0, 1)) correspond à :\n",
    "\n",
    "63/1 degrés + (409847 /10000 ) minutes + (0/1) secondes  \n",
    "soit un calcul à faire :\n",
    "\n",
    "\n",
    "63/1 + (409847 /10000 ) *1/60 + (0/1) * 1/3600"
   ]
  },
  {
   "cell_type": "code",
   "execution_count": 29,
   "metadata": {},
   "outputs": [],
   "source": [
    "def _en_degres(value): # value est ici un objet particulier : un tuple de tuples ?\n",
    "    \n",
    "    d0 = float(value[0][0]) # prend la valeur des degrés en nombre\n",
    "    d1 = float(value[0][1]) # prend le coefficient multiplicateur\n",
    "    d = d0 / d1 # on obtient les degrés\n",
    "\n",
    "    m0 = float(value[1][0]) # prend la valeur des minutes en nombre\n",
    "    m1 = float(value[1][1])\n",
    "    m = m0 / m1 # on obtient les minutes\n",
    "\n",
    "    s0 = float(value[2][0]) # prend la valeur des secondes en nombre\n",
    "    s1 = float(value[2][1])\n",
    "    s = s0 / s1 # on récupère les secondes\n",
    "\n",
    "    return ( d + (m / 60.0) + (s / 3600.0) )"
   ]
  },
  {
   "cell_type": "markdown",
   "metadata": {},
   "source": [
    "on essaie pour tester si la fonction \"fonctionne\" :"
   ]
  },
  {
   "cell_type": "code",
   "execution_count": 30,
   "metadata": {},
   "outputs": [
    {
     "data": {
      "text/plain": [
       "63.683078333333334"
      ]
     },
     "execution_count": 30,
     "metadata": {},
     "output_type": "execute_result"
    }
   ],
   "source": [
    "_en_degres(exif_data[34853][2])"
   ]
  },
  {
   "cell_type": "markdown",
   "metadata": {},
   "source": [
    "autres méthodes / essais :"
   ]
  },
  {
   "cell_type": "code",
   "execution_count": 12,
   "metadata": {},
   "outputs": [
    {
     "data": {
      "text/plain": [
       "{'GPSInfo': {1: 'N',\n",
       "  2: ((63, 1), (409847, 10000), (0, 1)),\n",
       "  3: 'W',\n",
       "  4: ((19, 1), (318565, 10000), (0, 1)),\n",
       "  5: b'\\x00',\n",
       "  6: (92709, 191),\n",
       "  7: ((13, 1), (18, 1), (42000, 1000)),\n",
       "  12: 'K',\n",
       "  13: (23, 25),\n",
       "  16: 'M',\n",
       "  17: (57107, 192),\n",
       "  23: 'M',\n",
       "  24: (57107, 192),\n",
       "  29: '2018:09:03',\n",
       "  31: (10, 1)},\n",
       " 'ResolutionUnit': 2,\n",
       " 'ExifOffset': 224,\n",
       " 'Make': 'Apple',\n",
       " 'Model': 'iPhone 8',\n",
       " 'Software': 'Adobe Photoshop Lightroom Classic 8.2 (Macintosh)',\n",
       " 'DateTime': '2019:05:10 18:01:44',\n",
       " 'XResolution': (240, 1),\n",
       " 'YResolution': (240, 1),\n",
       " 'ExifVersion': b'0230',\n",
       " 'ShutterSpeedValue': (10167418, 1000000),\n",
       " 'ApertureValue': (1695994, 1000000),\n",
       " 'DateTimeOriginal': '2018:09:03 15:18:55',\n",
       " 'DateTimeDigitized': '2018:09:03 15:18:55',\n",
       " 'BrightnessValue': (17587, 1827),\n",
       " 'ExposureBiasValue': (0, 1),\n",
       " 'MeteringMode': 5,\n",
       " 'ColorSpace': 1,\n",
       " 'Flash': 0,\n",
       " 'FocalLength': (399, 100),\n",
       " 'WhiteBalance': 0,\n",
       " 'FocalLengthIn35mmFilm': 28,\n",
       " 'SceneCaptureType': 0,\n",
       " 'SubsecTimeOriginal': '756',\n",
       " 'SubsecTimeDigitized': '756',\n",
       " 'SensingMethod': 2,\n",
       " 'ExposureTime': (1, 1150),\n",
       " 'FNumber': (18, 10),\n",
       " 'SceneType': b'\\x01',\n",
       " 'CustomRendered': 6,\n",
       " 'ISOSpeedRatings': 20,\n",
       " 'LensSpecification': ((4183519, 1048501), (4183519, 1048501), (9, 5), (9, 5)),\n",
       " 'LensMake': 'Apple',\n",
       " 'LensModel': 'iPhone 8 back camera 3.99mm f/1.8'}"
      ]
     },
     "execution_count": 12,
     "metadata": {},
     "output_type": "execute_result"
    }
   ],
   "source": [
    "ret = {}\n",
    "for tag, value in exif_data.items():\n",
    "        decoded = TAGS.get(tag, tag)\n",
    "        ret[decoded] = value\n",
    "ret"
   ]
  },
  {
   "cell_type": "code",
   "execution_count": 16,
   "metadata": {},
   "outputs": [
    {
     "data": {
      "text/plain": [
       "{1: 'N',\n",
       " 2: ((63, 1), (409847, 10000), (0, 1)),\n",
       " 3: 'W',\n",
       " 4: ((19, 1), (318565, 10000), (0, 1)),\n",
       " 5: b'\\x00',\n",
       " 6: (92709, 191),\n",
       " 7: ((13, 1), (18, 1), (42000, 1000)),\n",
       " 12: 'K',\n",
       " 13: (23, 25),\n",
       " 16: 'M',\n",
       " 17: (57107, 192),\n",
       " 23: 'M',\n",
       " 24: (57107, 192),\n",
       " 29: '2018:09:03',\n",
       " 31: (10, 1)}"
      ]
     },
     "execution_count": 16,
     "metadata": {},
     "output_type": "execute_result"
    }
   ],
   "source": [
    "ret['GPSInfo']\n"
   ]
  },
  {
   "cell_type": "code",
   "execution_count": null,
   "metadata": {},
   "outputs": [],
   "source": []
  },
  {
   "cell_type": "code",
   "execution_count": null,
   "metadata": {},
   "outputs": [],
   "source": []
  },
  {
   "cell_type": "markdown",
   "metadata": {},
   "source": [
    "on récupère les infos GPS utiles"
   ]
  },
  {
   "cell_type": "code",
   "execution_count": 31,
   "metadata": {},
   "outputs": [
    {
     "data": {
      "text/plain": [
       "'N'"
      ]
     },
     "execution_count": 31,
     "metadata": {},
     "output_type": "execute_result"
    }
   ],
   "source": [
    "gps_latitude = exif_data[34853][2]\n",
    "gps_latitude_ref = exif_data[34853][1]\n",
    "gps_longitude = exif_data[34853][4]\n",
    "gps_longitude_ref = exif_data[34853][3]\n",
    "\n",
    "gps_latitude_ref"
   ]
  },
  {
   "cell_type": "markdown",
   "metadata": {},
   "source": [
    "On convertit les angles en degrés :"
   ]
  },
  {
   "cell_type": "code",
   "execution_count": 38,
   "metadata": {},
   "outputs": [],
   "source": [
    "latitude = _en_degres(gps_latitude)\n",
    "longitude = _en_degres(gps_longitude)\n",
    "\n"
   ]
  },
  {
   "cell_type": "markdown",
   "metadata": {},
   "source": [
    "on fait attention au point cardinal de référence :\n"
   ]
  },
  {
   "cell_type": "code",
   "execution_count": 44,
   "metadata": {},
   "outputs": [],
   "source": [
    "if gps_latitude_ref != \"N\":                     \n",
    "                latitude = 0 - gps_latitude_degres\n",
    "if gps_longitude_ref != \"E\":\n",
    "                longitude = 0 - gps_longitude_degres\n"
   ]
  },
  {
   "cell_type": "code",
   "execution_count": 45,
   "metadata": {},
   "outputs": [
    {
     "name": "stdout",
     "output_type": "stream",
     "text": [
      "la latitude est :63.683078333333334 , la longitude est -19.530941666666667 \n"
     ]
    }
   ],
   "source": [
    "print(f\"la latitude est :{latitude} , la longitude est {longitude} \")"
   ]
  },
  {
   "cell_type": "markdown",
   "metadata": {},
   "source": [
    "Essai de géolocalisation :"
   ]
  },
  {
   "cell_type": "code",
   "execution_count": 48,
   "metadata": {},
   "outputs": [
    {
     "data": {
      "text/html": [
       "<div style=\"width:100%;\"><div style=\"position:relative;width:100%;height:0;padding-bottom:60%;\"><iframe src=\"data:text/html;charset=utf-8;base64,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\" style=\"position:absolute;width:100%;height:100%;left:0;top:0;border:none !important;\" allowfullscreen webkitallowfullscreen mozallowfullscreen></iframe></div></div>"
      ],
      "text/plain": [
       "<folium.folium.Map at 0x10c08ce48>"
      ]
     },
     "execution_count": 48,
     "metadata": {},
     "output_type": "execute_result"
    }
   ],
   "source": [
    "import folium\n",
    "\n",
    "macarte = folium.Map(location=[latitude,longitude],zoom_start=4)\n",
    "folium.Marker([latitude,longitude]).add_to(macarte)\n",
    "macarte"
   ]
  },
  {
   "cell_type": "markdown",
   "metadata": {},
   "source": [
    "ça marche !"
   ]
  },
  {
   "cell_type": "code",
   "execution_count": 51,
   "metadata": {},
   "outputs": [
    {
     "data": {
      "text/plain": [
       "dict"
      ]
     },
     "execution_count": 51,
     "metadata": {},
     "output_type": "execute_result"
    }
   ],
   "source": [
    "type(exif_data[34853])"
   ]
  },
  {
   "cell_type": "markdown",
   "metadata": {},
   "source": [
    "connaitre l'altitude :\n",
    "ce sont les clés 5 et 6 du dictionnaire exif_data contenant le dictionnaire exif_data[34853]\n",
    "\n",
    "la clé 5 : GPSAltitudeRef  indique si l'altitude est au dessus ou en dessous du niveau de la mer \n",
    "\n",
    "b'\\x00'\n",
    "\n",
    "\n",
    "la clé 6 : GPSAltitude donne l'altitude sous la forme d'un nombre rationnel :  \n",
    "\n",
    "( 150, 2 ) correspond ainsi à 150/2 = 75 m\n",
    "\n",
    "GPSAltitudeRef Indicates the altitude used as the reference altitude. If the reference is sea level and the altitude is above sea level, 0 is given. If the altitude is below sea level, a value of 1 is given and the altitude is indicated as an absolute value in the GPSAltitude tag. The reference unit is meters. Note that this tag is BYTE type, unlike other reference tags.\n",
    "\n",
    "GPSAltitude Indicates the altitude based on the reference in GPSAltitudeRef. Altitude is expressed as one RATIONAL value. The reference unit is meters."
   ]
  },
  {
   "cell_type": "markdown",
   "metadata": {},
   "source": [
    "On peut considérer les dictionnaires comme des ensembles de paires clé: valeur, les clés devant être uniques (au sein d'un dictionnaire). \n",
    "Une paire d'accolades crée un dictionnaire vide : {}. Placer une liste de paires clé:valeur séparées par des virgules à l'intérieur des accolades ajoute les valeurs correspondantes au dictionnaire ; c'est également de cette façon que les dictionnaires sont affichés."
   ]
  },
  {
   "cell_type": "code",
   "execution_count": 66,
   "metadata": {},
   "outputs": [
    {
     "data": {
      "text/plain": [
       "(92709, 191)"
      ]
     },
     "execution_count": 66,
     "metadata": {},
     "output_type": "execute_result"
    }
   ],
   "source": [
    "hauteur = exif_data[34853][6]\n",
    "hauteur"
   ]
  },
  {
   "cell_type": "code",
   "execution_count": 71,
   "metadata": {},
   "outputs": [
    {
     "name": "stdout",
     "output_type": "stream",
     "text": [
      "la hauteur en mètres vaut : 485.3874345549738\n"
     ]
    }
   ],
   "source": [
    "hauteur_m = hauteur[0]/hauteur[1]\n",
    "print (f\"la hauteur en mètres vaut : {hauteur_m}\" m )"
   ]
  },
  {
   "cell_type": "code",
   "execution_count": 76,
   "metadata": {},
   "outputs": [
    {
     "data": {
      "text/plain": [
       "b'\\x00'"
      ]
     },
     "execution_count": 76,
     "metadata": {},
     "output_type": "execute_result"
    }
   ],
   "source": [
    "ref = exif_data[34853][5]\n",
    "ref"
   ]
  },
  {
   "cell_type": "markdown",
   "metadata": {},
   "source": [
    "\\x00 signifie null , c'est un objet bytes (=octet ?)\n"
   ]
  },
  {
   "cell_type": "code",
   "execution_count": 78,
   "metadata": {},
   "outputs": [
    {
     "data": {
      "text/plain": [
       "bytes"
      ]
     },
     "execution_count": 78,
     "metadata": {},
     "output_type": "execute_result"
    }
   ],
   "source": [
    "type (ref)"
   ]
  },
  {
   "cell_type": "code",
   "execution_count": 85,
   "metadata": {},
   "outputs": [
    {
     "data": {
      "text/plain": [
       "0"
      ]
     },
     "execution_count": 85,
     "metadata": {},
     "output_type": "execute_result"
    }
   ],
   "source": [
    "ref[0] # pour accéder à la valeur du bytes en integer\n"
   ]
  },
  {
   "cell_type": "code",
   "execution_count": 88,
   "metadata": {},
   "outputs": [
    {
     "data": {
      "text/plain": [
       "0"
      ]
     },
     "execution_count": 88,
     "metadata": {},
     "output_type": "execute_result"
    }
   ],
   "source": [
    "int.from_bytes(ref, byteorder='big') # pour convertir un byte en integer"
   ]
  },
  {
   "cell_type": "code",
   "execution_count": 89,
   "metadata": {},
   "outputs": [
    {
     "data": {
      "text/plain": [
       "b'\\x00'"
      ]
     },
     "execution_count": 89,
     "metadata": {},
     "output_type": "execute_result"
    }
   ],
   "source": [
    "bytes([0]) # pour convertir un integer en byte , ne pas oublier les crochets"
   ]
  },
  {
   "cell_type": "code",
   "execution_count": null,
   "metadata": {},
   "outputs": [],
   "source": []
  },
  {
   "cell_type": "code",
   "execution_count": null,
   "metadata": {},
   "outputs": [],
   "source": []
  },
  {
   "cell_type": "code",
   "execution_count": null,
   "metadata": {},
   "outputs": [],
   "source": []
  }
 ],
 "metadata": {
  "kernelspec": {
   "display_name": "Python 3",
   "language": "python",
   "name": "python3"
  },
  "language_info": {
   "codemirror_mode": {
    "name": "ipython",
    "version": 3
   },
   "file_extension": ".py",
   "mimetype": "text/x-python",
   "name": "python",
   "nbconvert_exporter": "python",
   "pygments_lexer": "ipython3",
   "version": "3.6.5"
  }
 },
 "nbformat": 4,
 "nbformat_minor": 2
}
