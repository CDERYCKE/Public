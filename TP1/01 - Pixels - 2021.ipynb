{
 "cells": [
  {
   "cell_type": "markdown",
   "metadata": {},
   "source": [
    "# Traitement d'images numériques\n",
    "\n",
    "Utilisation de pillow en python pour traiter des images\n",
    "\n",
    "Lien avec le programme :\n",
    "\n",
    "![SegmentLocal](images/programme.jpg \"segment\")\n",
    "    \n"
   ]
  },
  {
   "cell_type": "markdown",
   "metadata": {},
   "source": [
    "<div class=\"alert alert-info\" role=\"alert\">\n",
    "Un notebook Jupyter est composé de deux types de cellules :<br>\n",
    "<ul><li> des cellules contenant du <b>texte</b> qu'il est nécessaire <b>de lire pour suivre correctement les consignes</b> </li><br>\n",
    "<li>des cellules contenant du <b>code Python</b> qu'il est nécessaire <b>d'éxécuter dans l'ordre d'apparition</b>.</li></ul><br>\n",
    "\n",
    "<b>Pour exécuter une cellule sélectionnée</b>, il faut  :<br>\n",
    "<ul><li> appuyer simultanément sur les touches <b>SHIFT<b> et <b>ENTRER<b> (la touche SHIFT est celle qui permet de faire une lettre majuscule)</li><br>\n",
    "<li>ou cliquer sur le bouton \"Exécuter\" (petite flèche droite) dans le bandeau supérieur.\n",
    "<br>\n",
    "\n",
    "</div>"
   ]
  },
  {
   "cell_type": "markdown",
   "metadata": {},
   "source": [
    "<div class=\"alert alert-success\" role=\"alert\">\n",
    " <strong> Le travail commence !</strong> <br>\n",
    "</div>"
   ]
  },
  {
   "cell_type": "code",
   "execution_count": null,
   "metadata": {},
   "outputs": [],
   "source": [
    "from PIL.Image import * # permet d'importer le module image de la bibliothèque PIL "
   ]
  },
  {
   "cell_type": "markdown",
   "metadata": {},
   "source": [
    "<div class=\"alert alert-info\" role=\"alert\">\n",
    "  <strong>Travail à faire sur le notebook : </strong> <br>\n",
    "    Pour les cellules de code suivantes, appuyez sur <strong>shift entrée </strong>pour lancer le code Python contenu chaque cellule\n",
    "</div>"
   ]
  },
  {
   "cell_type": "markdown",
   "metadata": {},
   "source": [
    "## 1. Fonctions de base du module pillow :"
   ]
  },
  {
   "cell_type": "markdown",
   "metadata": {},
   "source": [
    "__ Comment charger une image en mémoire ?__\n",
    "\n",
    "L'image appelé \"France.png\" est placée dans le même répertoire que le notebook ( que le fichier python .py)"
   ]
  },
  {
   "cell_type": "code",
   "execution_count": null,
   "metadata": {},
   "outputs": [],
   "source": [
    "img=open(\"France.png\") # l'image est chargée en mémoire - mais pas affichée\n",
    "img # permet de l'afficher dans le notebook"
   ]
  },
  {
   "cell_type": "markdown",
   "metadata": {},
   "source": [
    "On peut obtenir des informations sur l'image :\n",
    "\n",
    "* taille : \n",
    "* format : \n",
    "* mode de couleur : RGB ou L pour niveau de gris"
   ]
  },
  {
   "cell_type": "code",
   "execution_count": null,
   "metadata": {},
   "outputs": [],
   "source": [
    "img.size"
   ]
  },
  {
   "cell_type": "code",
   "execution_count": null,
   "metadata": {},
   "outputs": [],
   "source": [
    "largeur = img.width # Cette instruction permet de stocker la largeur de l'image (en pixels) dans une variable appelée largeur\n",
    "hauteur = img.height\n",
    "print ('largeur : ', largeur, 'pixels', '; hauteur : ', hauteur,'pixels')"
   ]
  },
  {
   "cell_type": "code",
   "execution_count": null,
   "metadata": {},
   "outputs": [],
   "source": [
    "# en une seule ligne :\n",
    "print( img.width, img.height, img.size, img.format, img.mode)"
   ]
  },
  {
   "cell_type": "markdown",
   "metadata": {},
   "source": [
    "Les pixels sont rangés selon une grille et ont chacun des coordonnées (x,y) :\n",
    "\n",
    "![SegmentLocal](images/coordonnees.jpg \"segment\")\n",
    "\n",
    "**Il faut faire attention : le premier pixel en haut à gauche a pour coordonnées (0 , 0) !**"
   ]
  },
  {
   "cell_type": "markdown",
   "metadata": {},
   "source": [
    "On peut récupérer l'information rouge, Vert, bleu d'un pixel de l'image de coordonnées (x, y).\n",
    "\n",
    "A votre avis, quelle couleur pour le pixel de coordonnées (100,300) du drapeau français ?\n",
    "Vérifier votre réponse avec le programme Python ci-dessous :"
   ]
  },
  {
   "cell_type": "code",
   "execution_count": null,
   "metadata": {},
   "outputs": [],
   "source": [
    "x=100 # position en largeur\n",
    "y=300 # position en hauteur\n",
    "\n",
    "\n",
    "\n",
    "(r,v,b)=img.getpixel((x,y))\n",
    "\n",
    "print(\"la composante rouge vaut : \", r, \"la composante verte vaut : \", v, \"la composante bleu vaut : \", b)"
   ]
  },
  {
   "cell_type": "markdown",
   "metadata": {},
   "source": [
    "<div class=\"alert alert-warning\" role=\"alert\">\n",
    "    <strong> Travail à faire sur la fiche réponse : </strong> <br>\n",
    "    --> Répondre aux questions <br>\n",
    "    --> Recopier les lignes de code modifiées\n",
    "</div>"
   ]
  },
  {
   "cell_type": "markdown",
   "metadata": {},
   "source": [
    "***\n",
    "\n",
    "**Questions :** (répondre sur la fiche élève )\n",
    "\n",
    "1) Quelles sont les dimensions du fichier image du drapeau français :\n",
    "\n",
    "2) Quel est le format de fichier ? (extension)\n",
    "\n",
    "3) quelle instruction python permet de charger l'image en mémoire pour pouvoir l'utiliser ?\n",
    "\n",
    "4) Que fait l’instruction getpixel ( (x,y) ) ?\n",
    "\n",
    "5) Compléter le tableau avec les couleurs de chaque aprtie du drapeau français en mode R,V,B.\n",
    "\n",
    "***"
   ]
  },
  {
   "cell_type": "markdown",
   "metadata": {},
   "source": [
    "<div class=\"travail à faire\">\n",
    "On peut modifier la couleur (r,v,b) d'un pixel de coordonnées (x,y) avec l'instruction : `putpixel( (x,y), (r,v,b) )`\n",
    "\n",
    "Lire le programme Python suivant et essayer de deviner ce qu'il va faire :\n",
    "</div>\n",
    "    "
   ]
  },
  {
   "cell_type": "code",
   "execution_count": null,
   "metadata": {},
   "outputs": [],
   "source": [
    "img=open(\"France.png\") #l'image est rechargée en mémoire\n",
    "x=450\n",
    "y=300\n",
    "img.putpixel((x,y), (0,0,0))\n",
    "img"
   ]
  },
  {
   "cell_type": "markdown",
   "metadata": {},
   "source": [
    "On souhaite modifier le drapeau de la France pour le recolorier avec les couleurs du drapeau belge ou du drapeau italien.\n",
    "***\n",
    "**Questions :** (répondre sur la fiche élève )\n",
    "\n",
    "6)\tQue fait l’instruction :  `img.putpixel((450,300), (0,0,0))` ?\n",
    "\n",
    "7) Compléter le schéma avec les coordonnées et les dimensions du tableau.\n",
    "\n",
    "8) Après avoir compris le code Python ci-dessous, compléter votre fiche avec le code Python pour obtenir la couleur du milieu du drapeau :\n",
    "***"
   ]
  },
  {
   "cell_type": "markdown",
   "metadata": {},
   "source": [
    "Voici un exemple de code qui utilise une double boucle pour parcourir tous les pixels de la bande de gauche du drapeau et pour les recolorier en noir.\n",
    "Lire le code puis l'exécuter.\n"
   ]
  },
  {
   "cell_type": "code",
   "execution_count": null,
   "metadata": {},
   "outputs": [],
   "source": [
    "img=open(\"France.png\") #l'image est chargée en mémoire / permet aussi de la rechager sans les modifications \n",
    "for x in range(0,300):\n",
    "    for y in range(0,300):\n",
    "        # Ici on traite le pixel (x,y) de l'image\n",
    "        img.putpixel((x,y), (0,0,0))\n",
    "img"
   ]
  },
  {
   "cell_type": "markdown",
   "metadata": {},
   "source": [
    "***\n",
    "Adaptez le code ci-dessus pour qu'il transforme la première bande du drapeau français en la première bande du drapeau désiré\n",
    "--> faire vérifier\n",
    "\n",
    "Effectuer alors la transformation complète du drapeau français\n",
    "--> faire vérifier\n",
    "***\n"
   ]
  },
  {
   "cell_type": "code",
   "execution_count": null,
   "metadata": {},
   "outputs": [],
   "source": []
  },
  {
   "cell_type": "markdown",
   "metadata": {},
   "source": [
    "On peut sauvegarder l'image sous un autre nom (dans le dossier du notebook par défaut) :"
   ]
  },
  {
   "cell_type": "code",
   "execution_count": null,
   "metadata": {},
   "outputs": [],
   "source": [
    "img.save(\"essai1.png\", \"PNG\")"
   ]
  },
  {
   "cell_type": "code",
   "execution_count": null,
   "metadata": {},
   "outputs": [],
   "source": []
  }
 ],
 "metadata": {
  "kernel_info": {
   "name": "python3"
  },
  "kernelspec": {
   "display_name": "Python 3",
   "language": "python",
   "name": "python3"
  },
  "language_info": {
   "codemirror_mode": {
    "name": "ipython",
    "version": 3
   },
   "file_extension": ".py",
   "mimetype": "text/x-python",
   "name": "python",
   "nbconvert_exporter": "python",
   "pygments_lexer": "ipython3",
   "version": "3.7.9"
  },
  "nteract": {
   "version": "0.14.3"
  }
 },
 "nbformat": 4,
 "nbformat_minor": 4
}
