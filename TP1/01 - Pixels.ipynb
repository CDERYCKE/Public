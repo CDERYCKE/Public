{
  "cells": [
    {
      "cell_type": "markdown",
      "source": [
        "# Traitement d'images numériques\n",
        "\n",
        "Utilisation de pillow en python pour traiter des images\n",
        "\n",
        "Lien avec le programme :\n",
        "\n",
        "![SegmentLocal](images/programme.jpg \"segment\")\n",
        "    \n"
      ],
      "metadata": {}
    },
    {
      "cell_type": "code",
      "source": [
        "!pip install pillow\n",
        "from PIL.Image import * # permet d'importer le module image de la bibliothèque PIL"
      ],
      "outputs": [],
      "execution_count": null,
      "metadata": {}
    },
    {
      "cell_type": "markdown",
      "source": [
        "__1. Fonctions de base du module pillow :__"
      ],
      "metadata": {}
    },
    {
      "cell_type": "code",
      "source": [
        "img=open(\"France.png\") #l'image est chargée en mémoire - mais pas affichée\n",
        "img # permet de l'afficher dans le notebook"
      ],
      "outputs": [],
      "execution_count": null,
      "metadata": {}
    },
    {
      "cell_type": "code",
      "source": [
        "largeur = img.width # Cette instruction permet de stocker la largeur de l'image (en pixels) dans une variable appelée largeur\n",
        "hauteur = img.height\n",
        "print ('largeur : ', largeur, 'pixels', '; hauteur : ', hauteur,'pixels')"
      ],
      "outputs": [],
      "execution_count": null,
      "metadata": {}
    },
    {
      "cell_type": "markdown",
      "source": [
        "Les pixels sont rangés selon une grille et ont chacun des coordonnées (x,y) :\n",
        "\n",
        "![SegmentLocal](images/coordonnees.jpg \"segment\")"
      ],
      "metadata": {}
    },
    {
      "cell_type": "markdown",
      "source": [
        "On peut récupérer l'information rouge, Vert, bleu d'un pixel de l'image de coordonnées (x, y).\n",
        "\n",
        "A votre avis, quelle couleur pour le pixel de coordonnées (100,300) du drapeau français ?\n",
        "Vérifier votre réponse avec le programme Python ci-dessous :"
      ],
      "metadata": {}
    },
    {
      "cell_type": "code",
      "source": [
        "x=100 # position en largeur\n",
        "y=300 # position en hauteur\n",
        "\n",
        "(r,v,b)=img.getpixel((x,y))\n",
        "\n",
        "print(\"la composante rouge vaut : \", r, \"la composante verte vaut : \", v, \"la composante bleu vaut : \", b)"
      ],
      "outputs": [],
      "execution_count": null,
      "metadata": {}
    },
    {
      "cell_type": "markdown",
      "source": [
        "<style>\n",
        "    p {\n",
        "      background-color: blue;\n",
        "      padding: 5px;\n",
        "      border: 1px solid black;\n",
        "    }\n",
        "Modifier les coordonnées du pixel pour obtenir les composantes (r,v,b) de pixels situés dans chaque partie du drapeau <br>\n",
        "--> Noter vos résultats sur la feuille réponse\n"
      ],
      "metadata": {}
    },
    {
      "cell_type": "markdown",
      "source": [
        "***\n",
        "\n",
        "**Questions :** (répondre sur la fiche élève )\n",
        "\n",
        "1) Quelles sont les dimensions du fichier image du drapeau français :\n",
        "\n",
        "2) Quel est le format de fichier ? (extension)\n",
        "\n",
        "3) quelle instruction python permet de charger l'image en mémoire pour pouvoir l'utiliser ?\n",
        "\n",
        "4) Que fait l’instruction getpixel ( (x,y) ) ?\n",
        "\n",
        "5) Compléter le tableau avec les couleurs de chaque aprtie du drapeau français en mode R,V,B.\n",
        "\n",
        "***"
      ],
      "metadata": {}
    },
    {
      "cell_type": "markdown",
      "source": [
        "<div class=\"travail à faire\">\n",
        "On peut modifier la couleur (r,v,b) d'un pixel de coordonnées (x,y) avec l'instruction : `putpixel( (x,y), (r,v,b) )`\n",
        "\n",
        "Lire le programme Python suivant et essayer de deviner ce qu'il va faire :\n",
        "</div>\n",
        "    "
      ],
      "metadata": {}
    },
    {
      "cell_type": "code",
      "source": [
        "img=open(\"France.png\") #l'image est rechargée en mémoire\n",
        "x=450\n",
        "y=300\n",
        "img.putpixel((x,y), (0,0,0))\n",
        "img"
      ],
      "outputs": [],
      "execution_count": null,
      "metadata": {}
    },
    {
      "cell_type": "markdown",
      "source": [
        "On souhaite modifier le drapeau de la France pour le recolorier avec les couleurs du drapeau belge ou du drapeau italien.\n",
        "***\n",
        "**Questions :** (répondre sur la fiche élève )\n",
        "\n",
        "6)\tQue fait l’instruction :  `img.putpixel((450,300), (0,0,0))` ?\n",
        "\n",
        "7) Compléter le schéma avec les coordonnées et les dimensions du tableau.\n",
        "\n",
        "8) Après avoir compris le code Python ci-dessous, compléter votre fiche avec le code Python pour obtenir la couleur du milieu du drapeau :\n",
        "***"
      ],
      "metadata": {}
    },
    {
      "cell_type": "markdown",
      "source": [
        "Voici un exemple de code qui utilise une double boucle pour parcourir tous les pixels de la bande de gauche du drapeau et pour les recolorier en noir.\n",
        "Lire le code puis l'exécuter.\n"
      ],
      "metadata": {}
    },
    {
      "cell_type": "code",
      "source": [
        "img=open(\"France.png\") #l'image est chargée en mémoire / permet aussi de la rechager sans les modifications \n",
        "for x in range(0,300):\n",
        "    for y in range(0,300):\n",
        "        # Ici on traite le pixel (x,y) de l'image\n",
        "        img.putpixel((x,y), (0,0,0))\n",
        "img"
      ],
      "outputs": [],
      "execution_count": null,
      "metadata": {}
    },
    {
      "cell_type": "markdown",
      "source": [
        "***\n",
        "Adaptez le code ci-dessus pour qu'il transforme la première bande du drapeau français en la première bande du drapeau désiré\n",
        "--> faire vérifier\n",
        "\n",
        "Effectuer alors la transformation complète du drapeau français\n",
        "--> faire vérifier\n",
        "***\n"
      ],
      "metadata": {}
    },
    {
      "cell_type": "code",
      "source": [],
      "outputs": [],
      "execution_count": null,
      "metadata": {}
    },
    {
      "cell_type": "code",
      "source": [],
      "outputs": [],
      "execution_count": null,
      "metadata": {}
    }
  ],
  "metadata": {
    "kernel_info": {
      "name": "python3"
    },
    "kernelspec": {
      "name": "python3",
      "language": "python",
      "display_name": "Python 3"
    },
    "language_info": {
      "name": "python",
      "version": "3.6.5",
      "mimetype": "text/x-python",
      "codemirror_mode": {
        "name": "ipython",
        "version": 3
      },
      "pygments_lexer": "ipython3",
      "nbconvert_exporter": "python",
      "file_extension": ".py"
    },
    "nteract": {
      "version": "0.15.0"
    }
  },
  "nbformat": 4,
  "nbformat_minor": 2
}